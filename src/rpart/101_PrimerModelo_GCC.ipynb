{
 "cells": [
  {
   "cell_type": "markdown",
   "metadata": {},
   "source": [
    "Arbol elemental con libreria  rpart"
   ]
  },
  {
   "cell_type": "code",
   "execution_count": 1,
   "metadata": {},
   "outputs": [
    {
     "name": "stderr",
     "output_type": "stream",
     "text": [
      "Loading required package: data.table\n",
      "\n",
      "Loading required package: rpart\n",
      "\n"
     ]
    }
   ],
   "source": [
    "require(\"data.table\")\n",
    "require(\"rpart\")"
   ]
  },
  {
   "cell_type": "code",
   "execution_count": 2,
   "metadata": {},
   "outputs": [],
   "source": [
    "#Aqui se debe poner la carpeta de la computadora local\n",
    "setwd(\"E:/Archivo/EconFin\")  #Establezco el Working Directory"
   ]
  },
  {
   "cell_type": "markdown",
   "metadata": {
    "tags": []
   },
   "source": [
    "cargo los datos de 202009 que es donde voy a ENTRENAR el modelo"
   ]
  },
  {
   "cell_type": "code",
   "execution_count": 13,
   "metadata": {},
   "outputs": [],
   "source": [
    "dtrain  <- fread(\"./datasetsOri/paquete_premium_202009.csv\")"
   ]
  },
  {
   "cell_type": "markdown",
   "metadata": {},
   "source": [
    "Cargo los datos de 202111, para luego aplicarle el modelo"
   ]
  },
  {
   "cell_type": "code",
   "execution_count": 14,
   "metadata": {},
   "outputs": [],
   "source": [
    "dapply  <- fread(\"./datasetsOri/paquete_premium_202011.csv\")"
   ]
  },
  {
   "cell_type": "code",
   "execution_count": 15,
   "metadata": {},
   "outputs": [
    {
     "data": {
      "text/html": [
       "<table class=\"dataframe\">\n",
       "<caption>A data.table: 10 × 158</caption>\n",
       "<thead>\n",
       "\t<tr><th scope=col>numero_de_cliente</th><th scope=col>foto_mes</th><th scope=col>active_quarter</th><th scope=col>cliente_vip</th><th scope=col>internet</th><th scope=col>cliente_edad</th><th scope=col>cliente_antiguedad</th><th scope=col>mrentabilidad</th><th scope=col>mrentabilidad_annual</th><th scope=col>mcomisiones</th><th scope=col>...</th><th scope=col>Visa_fultimo_cierre</th><th scope=col>Visa_mpagado</th><th scope=col>Visa_mpagospesos</th><th scope=col>Visa_mpagosdolares</th><th scope=col>Visa_fechaalta</th><th scope=col>Visa_mconsumototal</th><th scope=col>Visa_cconsumos</th><th scope=col>Visa_cadelantosefectivo</th><th scope=col>Visa_mpagominimo</th><th scope=col>clase_ternaria</th></tr>\n",
       "\t<tr><th scope=col>&lt;int&gt;</th><th scope=col>&lt;int&gt;</th><th scope=col>&lt;int&gt;</th><th scope=col>&lt;int&gt;</th><th scope=col>&lt;int&gt;</th><th scope=col>&lt;int&gt;</th><th scope=col>&lt;int&gt;</th><th scope=col>&lt;dbl&gt;</th><th scope=col>&lt;dbl&gt;</th><th scope=col>&lt;dbl&gt;</th><th scope=col>...</th><th scope=col>&lt;int&gt;</th><th scope=col>&lt;dbl&gt;</th><th scope=col>&lt;dbl&gt;</th><th scope=col>&lt;dbl&gt;</th><th scope=col>&lt;int&gt;</th><th scope=col>&lt;dbl&gt;</th><th scope=col>&lt;int&gt;</th><th scope=col>&lt;int&gt;</th><th scope=col>&lt;dbl&gt;</th><th scope=col>&lt;chr&gt;</th></tr>\n",
       "</thead>\n",
       "<tbody>\n",
       "\t<tr><td>4572294</td><td>202009</td><td>1</td><td>0</td><td>1</td><td>46</td><td> 89</td><td> 2183.00</td><td>  9702.36</td><td>1082.25</td><td>...</td><td>7</td><td>  0.00</td><td>-55893.73</td><td> 0.00</td><td>2691</td><td>11705.75</td><td> 5</td><td>0</td><td> 9558.9</td><td>CONTINUA</td></tr>\n",
       "\t<tr><td>4572366</td><td>202009</td><td>1</td><td>0</td><td>1</td><td>48</td><td>198</td><td>11875.55</td><td> 43936.81</td><td>2076.22</td><td>...</td><td>0</td><td>  0.00</td><td>-20021.04</td><td> 0.00</td><td>3363</td><td> 3079.08</td><td> 5</td><td>0</td><td>17667.0</td><td>CONTINUA</td></tr>\n",
       "\t<tr><td>4572633</td><td>202009</td><td>1</td><td>0</td><td>1</td><td>56</td><td>124</td><td>25658.55</td><td>525024.30</td><td>2936.75</td><td>...</td><td>0</td><td>  0.00</td><td>-61794.90</td><td> 0.00</td><td>3706</td><td>47735.01</td><td>14</td><td>0</td><td> 3486.6</td><td>CONTINUA</td></tr>\n",
       "\t<tr><td>4572728</td><td>202009</td><td>1</td><td>0</td><td>1</td><td>56</td><td>272</td><td> 3420.31</td><td>  2919.85</td><td>1054.49</td><td>...</td><td>0</td><td>  0.00</td><td>-38565.16</td><td> 0.00</td><td>4952</td><td>18471.29</td><td> 9</td><td>0</td><td> 1251.9</td><td>CONTINUA</td></tr>\n",
       "\t<tr><td>4572765</td><td>202009</td><td>1</td><td>0</td><td>1</td><td>49</td><td>299</td><td> 4212.94</td><td> 28345.98</td><td>1999.98</td><td>...</td><td>0</td><td>  0.00</td><td>-22495.71</td><td>23.65</td><td>2066</td><td>    0.00</td><td> 0</td><td>0</td><td> 1404.0</td><td>CONTINUA</td></tr>\n",
       "\t<tr><td>4572841</td><td>202009</td><td>1</td><td>0</td><td>1</td><td>60</td><td>369</td><td> 8004.91</td><td>139974.06</td><td> 625.83</td><td>...</td><td>0</td><td>  0.00</td><td>-66924.00</td><td> 0.00</td><td>7651</td><td>92439.73</td><td>13</td><td>0</td><td>35100.0</td><td>BAJA+2  </td></tr>\n",
       "\t<tr><td>4572913</td><td>202009</td><td>1</td><td>0</td><td>1</td><td>45</td><td>269</td><td>10030.36</td><td> 98933.73</td><td> 853.65</td><td>...</td><td>0</td><td>  0.00</td><td>-11009.95</td><td> 0.00</td><td>1940</td><td>  846.16</td><td> 1</td><td>0</td><td>   70.2</td><td>CONTINUA</td></tr>\n",
       "\t<tr><td>4572976</td><td>202009</td><td>1</td><td>0</td><td>1</td><td>79</td><td>316</td><td> 1441.13</td><td> 59200.29</td><td>1775.88</td><td>...</td><td>0</td><td>  0.00</td><td> -2671.55</td><td> 0.00</td><td>7398</td><td>12548.97</td><td> 7</td><td>0</td><td>  503.1</td><td>CONTINUA</td></tr>\n",
       "\t<tr><td>4573161</td><td>202009</td><td>1</td><td>0</td><td>1</td><td>61</td><td>274</td><td> -125.98</td><td> 57574.50</td><td>  63.63</td><td>...</td><td>7</td><td>256.93</td><td>  -256.93</td><td> 0.00</td><td>7451</td><td>  253.89</td><td> 3</td><td>0</td><td>   11.7</td><td>CONTINUA</td></tr>\n",
       "\t<tr><td>4573196</td><td>202009</td><td>1</td><td>0</td><td>1</td><td>57</td><td>316</td><td>-1693.58</td><td> 44462.03</td><td> 695.58</td><td>...</td><td>7</td><td>  0.00</td><td>-19163.48</td><td> 0.00</td><td>5021</td><td>46324.37</td><td>12</td><td>0</td><td> 1953.9</td><td>CONTINUA</td></tr>\n",
       "</tbody>\n",
       "</table>\n"
      ],
      "text/latex": [
       "A data.table: 10 × 158\n",
       "\\begin{tabular}{lllllllllllllllllllll}\n",
       " numero\\_de\\_cliente & foto\\_mes & active\\_quarter & cliente\\_vip & internet & cliente\\_edad & cliente\\_antiguedad & mrentabilidad & mrentabilidad\\_annual & mcomisiones & ... & Visa\\_fultimo\\_cierre & Visa\\_mpagado & Visa\\_mpagospesos & Visa\\_mpagosdolares & Visa\\_fechaalta & Visa\\_mconsumototal & Visa\\_cconsumos & Visa\\_cadelantosefectivo & Visa\\_mpagominimo & clase\\_ternaria\\\\\n",
       " <int> & <int> & <int> & <int> & <int> & <int> & <int> & <dbl> & <dbl> & <dbl> & ... & <int> & <dbl> & <dbl> & <dbl> & <int> & <dbl> & <int> & <int> & <dbl> & <chr>\\\\\n",
       "\\hline\n",
       "\t 4572294 & 202009 & 1 & 0 & 1 & 46 &  89 &  2183.00 &   9702.36 & 1082.25 & ... & 7 &   0.00 & -55893.73 &  0.00 & 2691 & 11705.75 &  5 & 0 &  9558.9 & CONTINUA\\\\\n",
       "\t 4572366 & 202009 & 1 & 0 & 1 & 48 & 198 & 11875.55 &  43936.81 & 2076.22 & ... & 0 &   0.00 & -20021.04 &  0.00 & 3363 &  3079.08 &  5 & 0 & 17667.0 & CONTINUA\\\\\n",
       "\t 4572633 & 202009 & 1 & 0 & 1 & 56 & 124 & 25658.55 & 525024.30 & 2936.75 & ... & 0 &   0.00 & -61794.90 &  0.00 & 3706 & 47735.01 & 14 & 0 &  3486.6 & CONTINUA\\\\\n",
       "\t 4572728 & 202009 & 1 & 0 & 1 & 56 & 272 &  3420.31 &   2919.85 & 1054.49 & ... & 0 &   0.00 & -38565.16 &  0.00 & 4952 & 18471.29 &  9 & 0 &  1251.9 & CONTINUA\\\\\n",
       "\t 4572765 & 202009 & 1 & 0 & 1 & 49 & 299 &  4212.94 &  28345.98 & 1999.98 & ... & 0 &   0.00 & -22495.71 & 23.65 & 2066 &     0.00 &  0 & 0 &  1404.0 & CONTINUA\\\\\n",
       "\t 4572841 & 202009 & 1 & 0 & 1 & 60 & 369 &  8004.91 & 139974.06 &  625.83 & ... & 0 &   0.00 & -66924.00 &  0.00 & 7651 & 92439.73 & 13 & 0 & 35100.0 & BAJA+2  \\\\\n",
       "\t 4572913 & 202009 & 1 & 0 & 1 & 45 & 269 & 10030.36 &  98933.73 &  853.65 & ... & 0 &   0.00 & -11009.95 &  0.00 & 1940 &   846.16 &  1 & 0 &    70.2 & CONTINUA\\\\\n",
       "\t 4572976 & 202009 & 1 & 0 & 1 & 79 & 316 &  1441.13 &  59200.29 & 1775.88 & ... & 0 &   0.00 &  -2671.55 &  0.00 & 7398 & 12548.97 &  7 & 0 &   503.1 & CONTINUA\\\\\n",
       "\t 4573161 & 202009 & 1 & 0 & 1 & 61 & 274 &  -125.98 &  57574.50 &   63.63 & ... & 7 & 256.93 &   -256.93 &  0.00 & 7451 &   253.89 &  3 & 0 &    11.7 & CONTINUA\\\\\n",
       "\t 4573196 & 202009 & 1 & 0 & 1 & 57 & 316 & -1693.58 &  44462.03 &  695.58 & ... & 7 &   0.00 & -19163.48 &  0.00 & 5021 & 46324.37 & 12 & 0 &  1953.9 & CONTINUA\\\\\n",
       "\\end{tabular}\n"
      ],
      "text/markdown": [
       "\n",
       "A data.table: 10 × 158\n",
       "\n",
       "| numero_de_cliente &lt;int&gt; | foto_mes &lt;int&gt; | active_quarter &lt;int&gt; | cliente_vip &lt;int&gt; | internet &lt;int&gt; | cliente_edad &lt;int&gt; | cliente_antiguedad &lt;int&gt; | mrentabilidad &lt;dbl&gt; | mrentabilidad_annual &lt;dbl&gt; | mcomisiones &lt;dbl&gt; | ... ... | Visa_fultimo_cierre &lt;int&gt; | Visa_mpagado &lt;dbl&gt; | Visa_mpagospesos &lt;dbl&gt; | Visa_mpagosdolares &lt;dbl&gt; | Visa_fechaalta &lt;int&gt; | Visa_mconsumototal &lt;dbl&gt; | Visa_cconsumos &lt;int&gt; | Visa_cadelantosefectivo &lt;int&gt; | Visa_mpagominimo &lt;dbl&gt; | clase_ternaria &lt;chr&gt; |\n",
       "|---|---|---|---|---|---|---|---|---|---|---|---|---|---|---|---|---|---|---|---|---|\n",
       "| 4572294 | 202009 | 1 | 0 | 1 | 46 |  89 |  2183.00 |   9702.36 | 1082.25 | ... | 7 |   0.00 | -55893.73 |  0.00 | 2691 | 11705.75 |  5 | 0 |  9558.9 | CONTINUA |\n",
       "| 4572366 | 202009 | 1 | 0 | 1 | 48 | 198 | 11875.55 |  43936.81 | 2076.22 | ... | 0 |   0.00 | -20021.04 |  0.00 | 3363 |  3079.08 |  5 | 0 | 17667.0 | CONTINUA |\n",
       "| 4572633 | 202009 | 1 | 0 | 1 | 56 | 124 | 25658.55 | 525024.30 | 2936.75 | ... | 0 |   0.00 | -61794.90 |  0.00 | 3706 | 47735.01 | 14 | 0 |  3486.6 | CONTINUA |\n",
       "| 4572728 | 202009 | 1 | 0 | 1 | 56 | 272 |  3420.31 |   2919.85 | 1054.49 | ... | 0 |   0.00 | -38565.16 |  0.00 | 4952 | 18471.29 |  9 | 0 |  1251.9 | CONTINUA |\n",
       "| 4572765 | 202009 | 1 | 0 | 1 | 49 | 299 |  4212.94 |  28345.98 | 1999.98 | ... | 0 |   0.00 | -22495.71 | 23.65 | 2066 |     0.00 |  0 | 0 |  1404.0 | CONTINUA |\n",
       "| 4572841 | 202009 | 1 | 0 | 1 | 60 | 369 |  8004.91 | 139974.06 |  625.83 | ... | 0 |   0.00 | -66924.00 |  0.00 | 7651 | 92439.73 | 13 | 0 | 35100.0 | BAJA+2   |\n",
       "| 4572913 | 202009 | 1 | 0 | 1 | 45 | 269 | 10030.36 |  98933.73 |  853.65 | ... | 0 |   0.00 | -11009.95 |  0.00 | 1940 |   846.16 |  1 | 0 |    70.2 | CONTINUA |\n",
       "| 4572976 | 202009 | 1 | 0 | 1 | 79 | 316 |  1441.13 |  59200.29 | 1775.88 | ... | 0 |   0.00 |  -2671.55 |  0.00 | 7398 | 12548.97 |  7 | 0 |   503.1 | CONTINUA |\n",
       "| 4573161 | 202009 | 1 | 0 | 1 | 61 | 274 |  -125.98 |  57574.50 |   63.63 | ... | 7 | 256.93 |   -256.93 |  0.00 | 7451 |   253.89 |  3 | 0 |    11.7 | CONTINUA |\n",
       "| 4573196 | 202009 | 1 | 0 | 1 | 57 | 316 | -1693.58 |  44462.03 |  695.58 | ... | 7 |   0.00 | -19163.48 |  0.00 | 5021 | 46324.37 | 12 | 0 |  1953.9 | CONTINUA |\n",
       "\n"
      ],
      "text/plain": [
       "   numero_de_cliente foto_mes active_quarter cliente_vip internet cliente_edad\n",
       "1  4572294           202009   1              0           1        46          \n",
       "2  4572366           202009   1              0           1        48          \n",
       "3  4572633           202009   1              0           1        56          \n",
       "4  4572728           202009   1              0           1        56          \n",
       "5  4572765           202009   1              0           1        49          \n",
       "6  4572841           202009   1              0           1        60          \n",
       "7  4572913           202009   1              0           1        45          \n",
       "8  4572976           202009   1              0           1        79          \n",
       "9  4573161           202009   1              0           1        61          \n",
       "10 4573196           202009   1              0           1        57          \n",
       "   cliente_antiguedad mrentabilidad mrentabilidad_annual mcomisiones ...\n",
       "1   89                 2183.00        9702.36            1082.25     ...\n",
       "2  198                11875.55       43936.81            2076.22     ...\n",
       "3  124                25658.55      525024.30            2936.75     ...\n",
       "4  272                 3420.31        2919.85            1054.49     ...\n",
       "5  299                 4212.94       28345.98            1999.98     ...\n",
       "6  369                 8004.91      139974.06             625.83     ...\n",
       "7  269                10030.36       98933.73             853.65     ...\n",
       "8  316                 1441.13       59200.29            1775.88     ...\n",
       "9  274                 -125.98       57574.50              63.63     ...\n",
       "10 316                -1693.58       44462.03             695.58     ...\n",
       "   Visa_fultimo_cierre Visa_mpagado Visa_mpagospesos Visa_mpagosdolares\n",
       "1  7                     0.00       -55893.73         0.00             \n",
       "2  0                     0.00       -20021.04         0.00             \n",
       "3  0                     0.00       -61794.90         0.00             \n",
       "4  0                     0.00       -38565.16         0.00             \n",
       "5  0                     0.00       -22495.71        23.65             \n",
       "6  0                     0.00       -66924.00         0.00             \n",
       "7  0                     0.00       -11009.95         0.00             \n",
       "8  0                     0.00        -2671.55         0.00             \n",
       "9  7                   256.93         -256.93         0.00             \n",
       "10 7                     0.00       -19163.48         0.00             \n",
       "   Visa_fechaalta Visa_mconsumototal Visa_cconsumos Visa_cadelantosefectivo\n",
       "1  2691           11705.75            5             0                      \n",
       "2  3363            3079.08            5             0                      \n",
       "3  3706           47735.01           14             0                      \n",
       "4  4952           18471.29            9             0                      \n",
       "5  2066               0.00            0             0                      \n",
       "6  7651           92439.73           13             0                      \n",
       "7  1940             846.16            1             0                      \n",
       "8  7398           12548.97            7             0                      \n",
       "9  7451             253.89            3             0                      \n",
       "10 5021           46324.37           12             0                      \n",
       "   Visa_mpagominimo clase_ternaria\n",
       "1   9558.9          CONTINUA      \n",
       "2  17667.0          CONTINUA      \n",
       "3   3486.6          CONTINUA      \n",
       "4   1251.9          CONTINUA      \n",
       "5   1404.0          CONTINUA      \n",
       "6  35100.0          BAJA+2        \n",
       "7     70.2          CONTINUA      \n",
       "8    503.1          CONTINUA      \n",
       "9     11.7          CONTINUA      \n",
       "10  1953.9          CONTINUA      "
      ]
     },
     "metadata": {},
     "output_type": "display_data"
    }
   ],
   "source": [
    "View(head(dtrain,10))"
   ]
  },
  {
   "cell_type": "code",
   "execution_count": 16,
   "metadata": {},
   "outputs": [
    {
     "name": "stdout",
     "output_type": "stream",
     "text": [
      "[1] \"mactivos_margen_rank\"\n",
      "[1] \"mpayroll_rank\"\n",
      "[1] \"matm_other_rank\"\n",
      "[1] \"Master_fultimo_cierre_rank\"\n",
      "[1] \"Visa_mfinanciacion_limite_rank\"\n",
      "[1] \"Master_Finiciomora_rank\"\n",
      "[1] \"Visa_mconsumosdolares_rank\"\n"
     ]
    }
   ],
   "source": [
    "## LIMPIEZA DEL DATASET\n",
    "\n",
    "# Columnas a eliminar del dataset por Data Drifting de Densidad\n",
    "dtrain[,c(\"internet\",\"mcuenta_corriente\", \"mcaja_ahorro_adicional\",\n",
    "                 \"mcaja_ahorro_dolares\", \"mprestamos_prendarios\",\n",
    "                \"mprestamos_hipotecarios\", \"mplazo_fijo_dolares\", \"mplazo_fijo_pesos\",\n",
    "                \"minversion1_pesos\", \"minversion1_dolares\", \"mtarjeta_visa_descuentos\",\n",
    "                \"mtarjeta_master_descuentos\", \"tmobile_app\", \"cmobile_app_trx\", \n",
    "                \"Master_madelantopesos\", \"Master_madelantodolares\", \"Visa_msaldodolares\"\n",
    "  ):=NULL]\n",
    "\n",
    "dapply[,c(\"internet\",\"mcuenta_corriente\", \"mcaja_ahorro_adicional\",\n",
    "           \"mcaja_ahorro_dolares\", \"mprestamos_prendarios\",\n",
    "           \"mprestamos_hipotecarios\", \"mplazo_fijo_dolares\", \"mplazo_fijo_pesos\",\n",
    "           \"minversion1_pesos\", \"minversion1_dolares\", \"mtarjeta_visa_descuentos\",\n",
    "           \"mtarjeta_master_descuentos\", \"tmobile_app\", \"cmobile_app_trx\", \n",
    "           \"Master_madelantopesos\", \"Master_madelantodolares\", \"Visa_msaldodolares\"\n",
    "  ):=NULL]\n",
    "\n",
    "#View(dataset[,c(\"mactivos_margen_rank\")])\n",
    "\n",
    "# Columnas a rankear por Data Drifting de Delta \n",
    "campos_rankear = c(\"mactivos_margen\", \"mpayroll\", \"matm_other\", \"Master_fultimo_cierre\", \n",
    "                   \"Visa_mfinanciacion_limite\", \"Master_Finiciomora\", \"Visa_mconsumosdolares\")\n",
    "\n",
    "for( campo in campos_rankear )\n",
    "{\n",
    "  campo_nuevo_name = paste(campo, \"_rank\", sep = \"\")\n",
    "  \n",
    "  campo_rank = frankv(dtrain, campo,\n",
    "                                order = 1L,\n",
    "                                na.last = \"keep\",\n",
    "                                ties.method=\"min\")\n",
    "  dtrain = cbind(dtrain, campo_nuevo_name = campo_rank)\n",
    "  setnames(dtrain, \"campo_nuevo_name\", campo_nuevo_name)\n",
    "  dtrain[,c(campo):=NULL]\n",
    "\n",
    "  campo_rank = frankv(dapply, campo,\n",
    "                      order = 1L,\n",
    "                      na.last = \"keep\",\n",
    "                      ties.method=\"min\")\n",
    "  dapply = cbind(dapply, campo_nuevo_name = campo_rank)\n",
    "  setnames(dapply, \"campo_nuevo_name\", campo_nuevo_name)\n",
    "  dapply[,c(campo):=NULL]\n",
    "  \n",
    "  print(campo_nuevo_name)\n",
    "}\n"
   ]
  },
  {
   "cell_type": "code",
   "execution_count": 17,
   "metadata": {},
   "outputs": [],
   "source": [
    "# Function weights\n",
    "positiveWeight = (100000/2)\n",
    "negativeWeight = 1250\n",
    "modelWeights <- ifelse(dtrain$clase_ternaria== 'BAJA+2', positiveWeight, negativeWeight)"
   ]
  },
  {
   "cell_type": "raw",
   "metadata": {},
   "source": [
    "Genero el modelo, llamando a la funcion  rpart"
   ]
  },
  {
   "cell_type": "code",
   "execution_count": 18,
   "metadata": {},
   "outputs": [],
   "source": [
    "modelo  <- rpart(\"clase_ternaria ~ .\",\n",
    "                 data = dtrain,\n",
    "                 xval=0,\n",
    "                 cp =        0,#-0.26099, #0\n",
    "                 minsplit=  4,#1531, #4\n",
    "                 minbucket=  4,#466, #4\n",
    "                 maxdepth=   14,#8, #14\n",
    "                 weights = modelWeights\n",
    "                )"
   ]
  },
  {
   "cell_type": "raw",
   "metadata": {},
   "source": [
    "Aplico el modelo generado que esta en la variable \"modelo\"  a los datos \"dapply\""
   ]
  },
  {
   "cell_type": "code",
   "execution_count": 19,
   "metadata": {},
   "outputs": [],
   "source": [
    "prediccion  <- predict( modelo, dapply , type = \"prob\") #aplico el modelo"
   ]
  },
  {
   "cell_type": "markdown",
   "metadata": {},
   "source": [
    "prediccion es una matriz con TRES columnas, llamadas \"BAJA+1\", \"BAJA+2\"  y \"CONTINUA\"\n",
    "cada columna es el vector de probabilidades "
   ]
  },
  {
   "cell_type": "code",
   "execution_count": 20,
   "metadata": {},
   "outputs": [],
   "source": [
    "dapply[ , prob_baja2 := prediccion[, \"BAJA+2\"] ]\n",
    "dapply[ , Predicted  := as.numeric(prob_baja2 > 0.5) ]\n",
    "\n",
    "entrega  <- dapply[   , list(numero_de_cliente, Predicted) ] #genero la salida\n",
    "\n",
    "#genero el archivo para Kaggle\n",
    "fwrite( entrega, file=\"./kaggle/K101_002.csv\", sep=\",\" )"
   ]
  }
 ],
 "metadata": {
  "kernelspec": {
   "display_name": "R",
   "language": "R",
   "name": "ir"
  },
  "language_info": {
   "codemirror_mode": "r",
   "file_extension": ".r",
   "mimetype": "text/x-r-source",
   "name": "R",
   "pygments_lexer": "r",
   "version": "4.1.1"
  }
 },
 "nbformat": 4,
 "nbformat_minor": 4
}
